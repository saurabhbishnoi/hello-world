{
 "cells": [
  {
   "cell_type": "code",
   "execution_count": 10,
   "metadata": {
    "ExecuteTime": {
     "end_time": "2019-02-21T08:07:07.847315Z",
     "start_time": "2019-02-21T08:07:06.938090Z"
    }
   },
   "outputs": [
    {
     "data": {
      "application/vnd.jupyter.widget-view+json": {
       "model_id": "a1f5b121f06d4de7898ab221434bfb47",
       "version_major": 2,
       "version_minor": 0
      },
      "text/plain": [
       "interactive(children=(IntSlider(value=50, description='x', min=1), Output()), _dom_classes=('widget-interact',…"
      ]
     },
     "metadata": {},
     "output_type": "display_data"
    }
   ],
   "source": [
    "from ipywidgets import interact, interactive, fixed, interact_manual\n",
    "from IPython.core.display import display, HTML \n",
    "from ipywidgets import IntSlider\n",
    "from ipywidgets.embed import embed_minimal_html\n",
    "\n",
    "slider = IntSlider(value=40)\n",
    "embed_minimal_html('export.html', views=[slider], title='Widgets export')\n",
    "\n",
    "def print_(x):\n",
    "    print(x)\n",
    "\n",
    "interactive(print_,x=(1,100,1))\n"
   ]
  },
  {
   "cell_type": "code",
   "execution_count": 11,
   "metadata": {
    "ExecuteTime": {
     "end_time": "2019-02-21T08:07:08.882564Z",
     "start_time": "2019-02-21T08:07:08.708940Z"
    },
    "hide_input": false
   },
   "outputs": [
    {
     "data": {
      "text/html": [
       "\n",
       "    <div class=\"bk-root\">\n",
       "        <a href=\"https://bokeh.pydata.org\" target=\"_blank\" class=\"bk-logo bk-logo-small bk-logo-notebook\"></a>\n",
       "        <span id=\"714e5310-dd54-4872-9da5-49c623f40502\">Loading BokehJS ...</span>\n",
       "    </div>"
      ]
     },
     "metadata": {},
     "output_type": "display_data"
    },
    {
     "data": {
      "application/javascript": [
       "\n",
       "(function(root) {\n",
       "  function now() {\n",
       "    return new Date();\n",
       "  }\n",
       "\n",
       "  var force = true;\n",
       "\n",
       "  if (typeof (root._bokeh_onload_callbacks) === \"undefined\" || force === true) {\n",
       "    root._bokeh_onload_callbacks = [];\n",
       "    root._bokeh_is_loading = undefined;\n",
       "  }\n",
       "\n",
       "  var JS_MIME_TYPE = 'application/javascript';\n",
       "  var HTML_MIME_TYPE = 'text/html';\n",
       "  var EXEC_MIME_TYPE = 'application/vnd.bokehjs_exec.v0+json';\n",
       "  var CLASS_NAME = 'output_bokeh rendered_html';\n",
       "\n",
       "  /**\n",
       "   * Render data to the DOM node\n",
       "   */\n",
       "  function render(props, node) {\n",
       "    var script = document.createElement(\"script\");\n",
       "    node.appendChild(script);\n",
       "  }\n",
       "\n",
       "  /**\n",
       "   * Handle when an output is cleared or removed\n",
       "   */\n",
       "  function handleClearOutput(event, handle) {\n",
       "    var cell = handle.cell;\n",
       "\n",
       "    var id = cell.output_area._bokeh_element_id;\n",
       "    var server_id = cell.output_area._bokeh_server_id;\n",
       "    // Clean up Bokeh references\n",
       "    if (id !== undefined) {\n",
       "      Bokeh.index[id].model.document.clear();\n",
       "      delete Bokeh.index[id];\n",
       "    }\n",
       "\n",
       "    if (server_id !== undefined) {\n",
       "      // Clean up Bokeh references\n",
       "      var cmd = \"from bokeh.io.state import curstate; print(curstate().uuid_to_server['\" + server_id + \"'].get_sessions()[0].document.roots[0]._id)\";\n",
       "      cell.notebook.kernel.execute(cmd, {\n",
       "        iopub: {\n",
       "          output: function(msg) {\n",
       "            var element_id = msg.content.text.trim();\n",
       "            Bokeh.index[element_id].model.document.clear();\n",
       "            delete Bokeh.index[element_id];\n",
       "          }\n",
       "        }\n",
       "      });\n",
       "      // Destroy server and session\n",
       "      var cmd = \"import bokeh.io.notebook as ion; ion.destroy_server('\" + server_id + \"')\";\n",
       "      cell.notebook.kernel.execute(cmd);\n",
       "    }\n",
       "  }\n",
       "\n",
       "  /**\n",
       "   * Handle when a new output is added\n",
       "   */\n",
       "  function handleAddOutput(event, handle) {\n",
       "    var output_area = handle.output_area;\n",
       "    var output = handle.output;\n",
       "\n",
       "    // limit handleAddOutput to display_data with EXEC_MIME_TYPE content only\n",
       "    if ((output.output_type != \"display_data\") || (!output.data.hasOwnProperty(EXEC_MIME_TYPE))) {\n",
       "      return\n",
       "    }\n",
       "\n",
       "    var toinsert = output_area.element.find(\".\" + CLASS_NAME.split(' ')[0]);\n",
       "\n",
       "    if (output.metadata[EXEC_MIME_TYPE][\"id\"] !== undefined) {\n",
       "      toinsert[toinsert.length - 1].firstChild.textContent = output.data[JS_MIME_TYPE];\n",
       "      // store reference to embed id on output_area\n",
       "      output_area._bokeh_element_id = output.metadata[EXEC_MIME_TYPE][\"id\"];\n",
       "    }\n",
       "    if (output.metadata[EXEC_MIME_TYPE][\"server_id\"] !== undefined) {\n",
       "      var bk_div = document.createElement(\"div\");\n",
       "      bk_div.innerHTML = output.data[HTML_MIME_TYPE];\n",
       "      var script_attrs = bk_div.children[0].attributes;\n",
       "      for (var i = 0; i < script_attrs.length; i++) {\n",
       "        toinsert[toinsert.length - 1].firstChild.setAttribute(script_attrs[i].name, script_attrs[i].value);\n",
       "      }\n",
       "      // store reference to server id on output_area\n",
       "      output_area._bokeh_server_id = output.metadata[EXEC_MIME_TYPE][\"server_id\"];\n",
       "    }\n",
       "  }\n",
       "\n",
       "  function register_renderer(events, OutputArea) {\n",
       "\n",
       "    function append_mime(data, metadata, element) {\n",
       "      // create a DOM node to render to\n",
       "      var toinsert = this.create_output_subarea(\n",
       "        metadata,\n",
       "        CLASS_NAME,\n",
       "        EXEC_MIME_TYPE\n",
       "      );\n",
       "      this.keyboard_manager.register_events(toinsert);\n",
       "      // Render to node\n",
       "      var props = {data: data, metadata: metadata[EXEC_MIME_TYPE]};\n",
       "      render(props, toinsert[toinsert.length - 1]);\n",
       "      element.append(toinsert);\n",
       "      return toinsert\n",
       "    }\n",
       "\n",
       "    /* Handle when an output is cleared or removed */\n",
       "    events.on('clear_output.CodeCell', handleClearOutput);\n",
       "    events.on('delete.Cell', handleClearOutput);\n",
       "\n",
       "    /* Handle when a new output is added */\n",
       "    events.on('output_added.OutputArea', handleAddOutput);\n",
       "\n",
       "    /**\n",
       "     * Register the mime type and append_mime function with output_area\n",
       "     */\n",
       "    OutputArea.prototype.register_mime_type(EXEC_MIME_TYPE, append_mime, {\n",
       "      /* Is output safe? */\n",
       "      safe: true,\n",
       "      /* Index of renderer in `output_area.display_order` */\n",
       "      index: 0\n",
       "    });\n",
       "  }\n",
       "\n",
       "  // register the mime type if in Jupyter Notebook environment and previously unregistered\n",
       "  if (root.Jupyter !== undefined) {\n",
       "    var events = require('base/js/events');\n",
       "    var OutputArea = require('notebook/js/outputarea').OutputArea;\n",
       "\n",
       "    if (OutputArea.prototype.mime_types().indexOf(EXEC_MIME_TYPE) == -1) {\n",
       "      register_renderer(events, OutputArea);\n",
       "    }\n",
       "  }\n",
       "\n",
       "  \n",
       "  if (typeof (root._bokeh_timeout) === \"undefined\" || force === true) {\n",
       "    root._bokeh_timeout = Date.now() + 5000;\n",
       "    root._bokeh_failed_load = false;\n",
       "  }\n",
       "\n",
       "  var NB_LOAD_WARNING = {'data': {'text/html':\n",
       "     \"<div style='background-color: #fdd'>\\n\"+\n",
       "     \"<p>\\n\"+\n",
       "     \"BokehJS does not appear to have successfully loaded. If loading BokehJS from CDN, this \\n\"+\n",
       "     \"may be due to a slow or bad network connection. Possible fixes:\\n\"+\n",
       "     \"</p>\\n\"+\n",
       "     \"<ul>\\n\"+\n",
       "     \"<li>re-rerun `output_notebook()` to attempt to load from CDN again, or</li>\\n\"+\n",
       "     \"<li>use INLINE resources instead, as so:</li>\\n\"+\n",
       "     \"</ul>\\n\"+\n",
       "     \"<code>\\n\"+\n",
       "     \"from bokeh.resources import INLINE\\n\"+\n",
       "     \"output_notebook(resources=INLINE)\\n\"+\n",
       "     \"</code>\\n\"+\n",
       "     \"</div>\"}};\n",
       "\n",
       "  function display_loaded() {\n",
       "    var el = document.getElementById(\"714e5310-dd54-4872-9da5-49c623f40502\");\n",
       "    if (el != null) {\n",
       "      el.textContent = \"BokehJS is loading...\";\n",
       "    }\n",
       "    if (root.Bokeh !== undefined) {\n",
       "      if (el != null) {\n",
       "        el.textContent = \"BokehJS \" + root.Bokeh.version + \" successfully loaded.\";\n",
       "      }\n",
       "    } else if (Date.now() < root._bokeh_timeout) {\n",
       "      setTimeout(display_loaded, 100)\n",
       "    }\n",
       "  }\n",
       "\n",
       "\n",
       "  function run_callbacks() {\n",
       "    try {\n",
       "      root._bokeh_onload_callbacks.forEach(function(callback) { callback() });\n",
       "    }\n",
       "    finally {\n",
       "      delete root._bokeh_onload_callbacks\n",
       "    }\n",
       "    console.info(\"Bokeh: all callbacks have finished\");\n",
       "  }\n",
       "\n",
       "  function load_libs(js_urls, callback) {\n",
       "    root._bokeh_onload_callbacks.push(callback);\n",
       "    if (root._bokeh_is_loading > 0) {\n",
       "      console.log(\"Bokeh: BokehJS is being loaded, scheduling callback at\", now());\n",
       "      return null;\n",
       "    }\n",
       "    if (js_urls == null || js_urls.length === 0) {\n",
       "      run_callbacks();\n",
       "      return null;\n",
       "    }\n",
       "    console.log(\"Bokeh: BokehJS not loaded, scheduling load and callback at\", now());\n",
       "    root._bokeh_is_loading = js_urls.length;\n",
       "    for (var i = 0; i < js_urls.length; i++) {\n",
       "      var url = js_urls[i];\n",
       "      var s = document.createElement('script');\n",
       "      s.src = url;\n",
       "      s.async = false;\n",
       "      s.onreadystatechange = s.onload = function() {\n",
       "        root._bokeh_is_loading--;\n",
       "        if (root._bokeh_is_loading === 0) {\n",
       "          console.log(\"Bokeh: all BokehJS libraries loaded\");\n",
       "          run_callbacks()\n",
       "        }\n",
       "      };\n",
       "      s.onerror = function() {\n",
       "        console.warn(\"failed to load library \" + url);\n",
       "      };\n",
       "      console.log(\"Bokeh: injecting script tag for BokehJS library: \", url);\n",
       "      document.getElementsByTagName(\"head\")[0].appendChild(s);\n",
       "    }\n",
       "  };var element = document.getElementById(\"714e5310-dd54-4872-9da5-49c623f40502\");\n",
       "  if (element == null) {\n",
       "    console.log(\"Bokeh: ERROR: autoload.js configured with elementid '714e5310-dd54-4872-9da5-49c623f40502' but no matching script tag was found. \")\n",
       "    return false;\n",
       "  }\n",
       "\n",
       "  var js_urls = [\"https://cdn.pydata.org/bokeh/release/bokeh-0.12.16.min.js\", \"https://cdn.pydata.org/bokeh/release/bokeh-widgets-0.12.16.min.js\", \"https://cdn.pydata.org/bokeh/release/bokeh-tables-0.12.16.min.js\", \"https://cdn.pydata.org/bokeh/release/bokeh-gl-0.12.16.min.js\"];\n",
       "\n",
       "  var inline_js = [\n",
       "    function(Bokeh) {\n",
       "      Bokeh.set_log_level(\"info\");\n",
       "    },\n",
       "    \n",
       "    function(Bokeh) {\n",
       "      \n",
       "    },\n",
       "    function(Bokeh) {\n",
       "      console.log(\"Bokeh: injecting CSS: https://cdn.pydata.org/bokeh/release/bokeh-0.12.16.min.css\");\n",
       "      Bokeh.embed.inject_css(\"https://cdn.pydata.org/bokeh/release/bokeh-0.12.16.min.css\");\n",
       "      console.log(\"Bokeh: injecting CSS: https://cdn.pydata.org/bokeh/release/bokeh-widgets-0.12.16.min.css\");\n",
       "      Bokeh.embed.inject_css(\"https://cdn.pydata.org/bokeh/release/bokeh-widgets-0.12.16.min.css\");\n",
       "      console.log(\"Bokeh: injecting CSS: https://cdn.pydata.org/bokeh/release/bokeh-tables-0.12.16.min.css\");\n",
       "      Bokeh.embed.inject_css(\"https://cdn.pydata.org/bokeh/release/bokeh-tables-0.12.16.min.css\");\n",
       "    }\n",
       "  ];\n",
       "\n",
       "  function run_inline_js() {\n",
       "    \n",
       "    if ((root.Bokeh !== undefined) || (force === true)) {\n",
       "      for (var i = 0; i < inline_js.length; i++) {\n",
       "        inline_js[i].call(root, root.Bokeh);\n",
       "      }if (force === true) {\n",
       "        display_loaded();\n",
       "      }} else if (Date.now() < root._bokeh_timeout) {\n",
       "      setTimeout(run_inline_js, 100);\n",
       "    } else if (!root._bokeh_failed_load) {\n",
       "      console.log(\"Bokeh: BokehJS failed to load within specified timeout.\");\n",
       "      root._bokeh_failed_load = true;\n",
       "    } else if (force !== true) {\n",
       "      var cell = $(document.getElementById(\"714e5310-dd54-4872-9da5-49c623f40502\")).parents('.cell').data().cell;\n",
       "      cell.output_area.append_execute_result(NB_LOAD_WARNING)\n",
       "    }\n",
       "\n",
       "  }\n",
       "\n",
       "  if (root._bokeh_is_loading === 0) {\n",
       "    console.log(\"Bokeh: BokehJS loaded, going straight to plotting\");\n",
       "    run_inline_js();\n",
       "  } else {\n",
       "    load_libs(js_urls, function() {\n",
       "      console.log(\"Bokeh: BokehJS plotting callback run at\", now());\n",
       "      run_inline_js();\n",
       "    });\n",
       "  }\n",
       "}(window));"
      ],
      "application/vnd.bokehjs_load.v0+json": "\n(function(root) {\n  function now() {\n    return new Date();\n  }\n\n  var force = true;\n\n  if (typeof (root._bokeh_onload_callbacks) === \"undefined\" || force === true) {\n    root._bokeh_onload_callbacks = [];\n    root._bokeh_is_loading = undefined;\n  }\n\n  \n\n  \n  if (typeof (root._bokeh_timeout) === \"undefined\" || force === true) {\n    root._bokeh_timeout = Date.now() + 5000;\n    root._bokeh_failed_load = false;\n  }\n\n  var NB_LOAD_WARNING = {'data': {'text/html':\n     \"<div style='background-color: #fdd'>\\n\"+\n     \"<p>\\n\"+\n     \"BokehJS does not appear to have successfully loaded. If loading BokehJS from CDN, this \\n\"+\n     \"may be due to a slow or bad network connection. Possible fixes:\\n\"+\n     \"</p>\\n\"+\n     \"<ul>\\n\"+\n     \"<li>re-rerun `output_notebook()` to attempt to load from CDN again, or</li>\\n\"+\n     \"<li>use INLINE resources instead, as so:</li>\\n\"+\n     \"</ul>\\n\"+\n     \"<code>\\n\"+\n     \"from bokeh.resources import INLINE\\n\"+\n     \"output_notebook(resources=INLINE)\\n\"+\n     \"</code>\\n\"+\n     \"</div>\"}};\n\n  function display_loaded() {\n    var el = document.getElementById(\"714e5310-dd54-4872-9da5-49c623f40502\");\n    if (el != null) {\n      el.textContent = \"BokehJS is loading...\";\n    }\n    if (root.Bokeh !== undefined) {\n      if (el != null) {\n        el.textContent = \"BokehJS \" + root.Bokeh.version + \" successfully loaded.\";\n      }\n    } else if (Date.now() < root._bokeh_timeout) {\n      setTimeout(display_loaded, 100)\n    }\n  }\n\n\n  function run_callbacks() {\n    try {\n      root._bokeh_onload_callbacks.forEach(function(callback) { callback() });\n    }\n    finally {\n      delete root._bokeh_onload_callbacks\n    }\n    console.info(\"Bokeh: all callbacks have finished\");\n  }\n\n  function load_libs(js_urls, callback) {\n    root._bokeh_onload_callbacks.push(callback);\n    if (root._bokeh_is_loading > 0) {\n      console.log(\"Bokeh: BokehJS is being loaded, scheduling callback at\", now());\n      return null;\n    }\n    if (js_urls == null || js_urls.length === 0) {\n      run_callbacks();\n      return null;\n    }\n    console.log(\"Bokeh: BokehJS not loaded, scheduling load and callback at\", now());\n    root._bokeh_is_loading = js_urls.length;\n    for (var i = 0; i < js_urls.length; i++) {\n      var url = js_urls[i];\n      var s = document.createElement('script');\n      s.src = url;\n      s.async = false;\n      s.onreadystatechange = s.onload = function() {\n        root._bokeh_is_loading--;\n        if (root._bokeh_is_loading === 0) {\n          console.log(\"Bokeh: all BokehJS libraries loaded\");\n          run_callbacks()\n        }\n      };\n      s.onerror = function() {\n        console.warn(\"failed to load library \" + url);\n      };\n      console.log(\"Bokeh: injecting script tag for BokehJS library: \", url);\n      document.getElementsByTagName(\"head\")[0].appendChild(s);\n    }\n  };var element = document.getElementById(\"714e5310-dd54-4872-9da5-49c623f40502\");\n  if (element == null) {\n    console.log(\"Bokeh: ERROR: autoload.js configured with elementid '714e5310-dd54-4872-9da5-49c623f40502' but no matching script tag was found. \")\n    return false;\n  }\n\n  var js_urls = [\"https://cdn.pydata.org/bokeh/release/bokeh-0.12.16.min.js\", \"https://cdn.pydata.org/bokeh/release/bokeh-widgets-0.12.16.min.js\", \"https://cdn.pydata.org/bokeh/release/bokeh-tables-0.12.16.min.js\", \"https://cdn.pydata.org/bokeh/release/bokeh-gl-0.12.16.min.js\"];\n\n  var inline_js = [\n    function(Bokeh) {\n      Bokeh.set_log_level(\"info\");\n    },\n    \n    function(Bokeh) {\n      \n    },\n    function(Bokeh) {\n      console.log(\"Bokeh: injecting CSS: https://cdn.pydata.org/bokeh/release/bokeh-0.12.16.min.css\");\n      Bokeh.embed.inject_css(\"https://cdn.pydata.org/bokeh/release/bokeh-0.12.16.min.css\");\n      console.log(\"Bokeh: injecting CSS: https://cdn.pydata.org/bokeh/release/bokeh-widgets-0.12.16.min.css\");\n      Bokeh.embed.inject_css(\"https://cdn.pydata.org/bokeh/release/bokeh-widgets-0.12.16.min.css\");\n      console.log(\"Bokeh: injecting CSS: https://cdn.pydata.org/bokeh/release/bokeh-tables-0.12.16.min.css\");\n      Bokeh.embed.inject_css(\"https://cdn.pydata.org/bokeh/release/bokeh-tables-0.12.16.min.css\");\n    }\n  ];\n\n  function run_inline_js() {\n    \n    if ((root.Bokeh !== undefined) || (force === true)) {\n      for (var i = 0; i < inline_js.length; i++) {\n        inline_js[i].call(root, root.Bokeh);\n      }if (force === true) {\n        display_loaded();\n      }} else if (Date.now() < root._bokeh_timeout) {\n      setTimeout(run_inline_js, 100);\n    } else if (!root._bokeh_failed_load) {\n      console.log(\"Bokeh: BokehJS failed to load within specified timeout.\");\n      root._bokeh_failed_load = true;\n    } else if (force !== true) {\n      var cell = $(document.getElementById(\"714e5310-dd54-4872-9da5-49c623f40502\")).parents('.cell').data().cell;\n      cell.output_area.append_execute_result(NB_LOAD_WARNING)\n    }\n\n  }\n\n  if (root._bokeh_is_loading === 0) {\n    console.log(\"Bokeh: BokehJS loaded, going straight to plotting\");\n    run_inline_js();\n  } else {\n    load_libs(js_urls, function() {\n      console.log(\"Bokeh: BokehJS plotting callback run at\", now());\n      run_inline_js();\n    });\n  }\n}(window));"
     },
     "metadata": {},
     "output_type": "display_data"
    },
    {
     "data": {
      "text/html": [
       "\n",
       "<div class=\"bk-root\">\n",
       "    <div class=\"bk-plotdiv\" id=\"46dae347-9a6c-45ad-97ec-3e3b2b101ccf\"></div>\n",
       "</div>"
      ]
     },
     "metadata": {},
     "output_type": "display_data"
    },
    {
     "data": {
      "application/javascript": [
       "(function(root) {\n",
       "  function embed_document(root) {\n",
       "    \n",
       "  var docs_json = {\"12244d5d-0ecb-4cb0-872b-e5d76e50f96c\":{\"roots\":{\"references\":[{\"attributes\":{\"callback\":null},\"id\":\"89b80a04-ad49-4e68-a924-575cdd129cc8\",\"type\":\"DataRange1d\"},{\"attributes\":{\"formatter\":{\"id\":\"959d138e-da11-4a4a-8a23-8c0b050eb49c\",\"type\":\"BasicTickFormatter\"},\"plot\":{\"id\":\"54fa8526-d957-498e-9d1b-17e9fd89aebc\",\"subtype\":\"Figure\",\"type\":\"Plot\"},\"ticker\":{\"id\":\"d471271e-6c82-4ddf-8b22-128071c71c0e\",\"type\":\"BasicTicker\"}},\"id\":\"68e6cd80-8922-41c9-ad97-0be5b9cd0c60\",\"type\":\"LinearAxis\"},{\"attributes\":{\"active_drag\":\"auto\",\"active_inspect\":\"auto\",\"active_scroll\":\"auto\",\"active_tap\":\"auto\",\"tools\":[{\"id\":\"e5c4266c-9da6-4e95-95a7-e5ae6eb80382\",\"type\":\"PanTool\"},{\"id\":\"7c607bd0-410c-46d4-be0f-4df8fc1f75f8\",\"type\":\"WheelZoomTool\"}]},\"id\":\"35c65eb0-058d-498c-aa31-5a05254bb553\",\"type\":\"Toolbar\"},{\"attributes\":{},\"id\":\"0ff576f6-bf79-4bea-ab90-348a394609d6\",\"type\":\"BasicTicker\"},{\"attributes\":{},\"id\":\"ff9ded9f-cc7f-4691-a88a-745ad5511820\",\"type\":\"PanTool\"},{\"attributes\":{\"formatter\":{\"id\":\"dc7cac2d-0d3c-4006-829b-7ef1eb378db4\",\"type\":\"BasicTickFormatter\"},\"plot\":{\"id\":\"54fa8526-d957-498e-9d1b-17e9fd89aebc\",\"subtype\":\"Figure\",\"type\":\"Plot\"},\"ticker\":{\"id\":\"0ff576f6-bf79-4bea-ab90-348a394609d6\",\"type\":\"BasicTicker\"}},\"id\":\"295d6874-a248-4e7e-9087-6e522abc3029\",\"type\":\"LinearAxis\"},{\"attributes\":{\"below\":[{\"id\":\"3c8215a2-2daa-4241-bf27-536e7072bbf0\",\"type\":\"LinearAxis\"}],\"left\":[{\"id\":\"97d319c6-bf0b-4d5e-b823-09c1dc516f66\",\"type\":\"LinearAxis\"}],\"plot_height\":250,\"plot_width\":250,\"renderers\":[{\"id\":\"3c8215a2-2daa-4241-bf27-536e7072bbf0\",\"type\":\"LinearAxis\"},{\"id\":\"47c623a5-0656-4523-ac5b-9c0eb405b45d\",\"type\":\"Grid\"},{\"id\":\"97d319c6-bf0b-4d5e-b823-09c1dc516f66\",\"type\":\"LinearAxis\"},{\"id\":\"4a8ea814-4ee7-47fb-80d2-f55b0ac6e08f\",\"type\":\"Grid\"},{\"id\":\"87e46eef-76db-4466-8a6c-a623fd2d71d1\",\"type\":\"GlyphRenderer\"}],\"title\":{\"id\":\"805bfce2-56e3-4298-ac08-71f50b86554a\",\"type\":\"Title\"},\"toolbar\":{\"id\":\"35c65eb0-058d-498c-aa31-5a05254bb553\",\"type\":\"Toolbar\"},\"toolbar_location\":null,\"x_range\":{\"id\":\"152896ee-f984-47ea-97aa-1e37d792cdb8\",\"type\":\"DataRange1d\"},\"x_scale\":{\"id\":\"c0d135dc-2133-46c6-a952-7d8d09f54c31\",\"type\":\"LinearScale\"},\"y_range\":{\"id\":\"89b80a04-ad49-4e68-a924-575cdd129cc8\",\"type\":\"DataRange1d\"},\"y_scale\":{\"id\":\"3d6dcf68-5d86-4228-824f-f0be17aeab00\",\"type\":\"LinearScale\"}},\"id\":\"dbe569c4-4851-40b0-aaaa-7da8e7bb8c7e\",\"subtype\":\"Figure\",\"type\":\"Plot\"},{\"attributes\":{\"plot\":{\"id\":\"54fa8526-d957-498e-9d1b-17e9fd89aebc\",\"subtype\":\"Figure\",\"type\":\"Plot\"},\"ticker\":{\"id\":\"0ff576f6-bf79-4bea-ab90-348a394609d6\",\"type\":\"BasicTicker\"}},\"id\":\"f0237a73-1458-4843-a410-8f9c7f1c7ca1\",\"type\":\"Grid\"},{\"attributes\":{\"children\":[{\"id\":\"dbe569c4-4851-40b0-aaaa-7da8e7bb8c7e\",\"subtype\":\"Figure\",\"type\":\"Plot\"},{\"id\":\"91135a9a-aff3-4256-9ff0-a3e56ba09149\",\"subtype\":\"Figure\",\"type\":\"Plot\"},{\"id\":\"54fa8526-d957-498e-9d1b-17e9fd89aebc\",\"subtype\":\"Figure\",\"type\":\"Plot\"}]},\"id\":\"6fde23bb-3cdc-43a9-bf33-e776efa14175\",\"type\":\"Row\"},{\"attributes\":{},\"id\":\"316f35fb-78dd-4e32-80a3-616227c5ab44\",\"type\":\"LinearScale\"},{\"attributes\":{\"callback\":null},\"id\":\"152896ee-f984-47ea-97aa-1e37d792cdb8\",\"type\":\"DataRange1d\"},{\"attributes\":{\"below\":[{\"id\":\"99404b73-1aaa-4716-8ff5-127c42523d90\",\"type\":\"LinearAxis\"}],\"left\":[{\"id\":\"a0947d68-f332-46a6-bdbf-b1d85ced2a0f\",\"type\":\"LinearAxis\"}],\"plot_height\":250,\"plot_width\":250,\"renderers\":[{\"id\":\"99404b73-1aaa-4716-8ff5-127c42523d90\",\"type\":\"LinearAxis\"},{\"id\":\"153a41f7-20b2-435b-8c28-280d9ede7878\",\"type\":\"Grid\"},{\"id\":\"a0947d68-f332-46a6-bdbf-b1d85ced2a0f\",\"type\":\"LinearAxis\"},{\"id\":\"3ffa4a3d-0f0e-4da4-9d6e-d75ed3568a2f\",\"type\":\"Grid\"},{\"id\":\"131b9a55-240a-45dd-8ec2-86400243833a\",\"type\":\"GlyphRenderer\"}],\"title\":{\"id\":\"7d832d08-708e-4dd8-b072-d3a15942216e\",\"type\":\"Title\"},\"toolbar\":{\"id\":\"76fad7bc-95c9-40c0-8134-f65570d10cb3\",\"type\":\"Toolbar\"},\"toolbar_location\":null,\"x_range\":{\"id\":\"152896ee-f984-47ea-97aa-1e37d792cdb8\",\"type\":\"DataRange1d\"},\"x_scale\":{\"id\":\"b723c784-45fa-4088-b5dc-4aab2f7fe3c8\",\"type\":\"LinearScale\"},\"y_range\":{\"id\":\"89b80a04-ad49-4e68-a924-575cdd129cc8\",\"type\":\"DataRange1d\"},\"y_scale\":{\"id\":\"0997448f-b035-45de-8527-f8909a2f73f1\",\"type\":\"LinearScale\"}},\"id\":\"91135a9a-aff3-4256-9ff0-a3e56ba09149\",\"subtype\":\"Figure\",\"type\":\"Plot\"},{\"attributes\":{},\"id\":\"d471271e-6c82-4ddf-8b22-128071c71c0e\",\"type\":\"BasicTicker\"},{\"attributes\":{\"callback\":null,\"data\":{\"x\":[0,1,2,3,4,5,6,7,8,9,10],\"y\":[0,1,2,3,4,5,6,7,8,9,10]},\"selected\":{\"id\":\"4169f77f-4fdf-4f54-8a1a-6d6824c34e2f\",\"type\":\"Selection\"},\"selection_policy\":{\"id\":\"8b0469aa-fba1-486d-b1fe-0b9c68f9eeca\",\"type\":\"UnionRenderers\"}},\"id\":\"fe6c4c0a-fb01-4da8-a22b-71aacd68a8cb\",\"type\":\"ColumnDataSource\"},{\"attributes\":{\"fill_color\":{\"value\":\"olive\"},\"line_color\":{\"value\":\"olive\"},\"size\":{\"units\":\"screen\",\"value\":10},\"x\":{\"field\":\"x\"},\"y\":{\"field\":\"y\"}},\"id\":\"821ddbbd-0a17-41c9-b4fc-dd3c42aeae97\",\"type\":\"Square\"},{\"attributes\":{},\"id\":\"93ee2844-7290-4603-b0ce-35f2115ed18c\",\"type\":\"WheelZoomTool\"},{\"attributes\":{\"data_source\":{\"id\":\"84c05938-6893-47aa-81b0-ab3aec7cc0f1\",\"type\":\"ColumnDataSource\"},\"glyph\":{\"id\":\"7a156050-5fe9-4f11-9057-55029ccc9d01\",\"type\":\"Triangle\"},\"hover_glyph\":null,\"muted_glyph\":null,\"nonselection_glyph\":{\"id\":\"303591d7-2779-4944-a103-bcf3e59ddafd\",\"type\":\"Triangle\"},\"selection_glyph\":null,\"view\":{\"id\":\"fa8ba2e9-8f70-4b05-afe7-dd2a909ede4d\",\"type\":\"CDSView\"}},\"id\":\"131b9a55-240a-45dd-8ec2-86400243833a\",\"type\":\"GlyphRenderer\"},{\"attributes\":{},\"id\":\"0cefe240-e4e6-4018-8175-b5177ec5976f\",\"type\":\"BasicTickFormatter\"},{\"attributes\":{},\"id\":\"6b73c5d8-4dd2-418b-983b-3cc847cdb191\",\"type\":\"Selection\"},{\"attributes\":{\"plot\":null,\"text\":\"\"},\"id\":\"13e75a8e-ed69-4564-bc64-9adb80af8eb9\",\"type\":\"Title\"},{\"attributes\":{},\"id\":\"959d138e-da11-4a4a-8a23-8c0b050eb49c\",\"type\":\"BasicTickFormatter\"},{\"attributes\":{},\"id\":\"dda68b08-8eab-4fe6-91c5-a995f0d65043\",\"type\":\"UnionRenderers\"},{\"attributes\":{},\"id\":\"b723c784-45fa-4088-b5dc-4aab2f7fe3c8\",\"type\":\"LinearScale\"},{\"attributes\":{},\"id\":\"dc7cac2d-0d3c-4006-829b-7ef1eb378db4\",\"type\":\"BasicTickFormatter\"},{\"attributes\":{},\"id\":\"38aa0045-3c24-40ab-9e3e-dcc26654f3fe\",\"type\":\"Selection\"},{\"attributes\":{},\"id\":\"c0d135dc-2133-46c6-a952-7d8d09f54c31\",\"type\":\"LinearScale\"},{\"attributes\":{\"tools\":[{\"id\":\"e5c4266c-9da6-4e95-95a7-e5ae6eb80382\",\"type\":\"PanTool\"},{\"id\":\"7c607bd0-410c-46d4-be0f-4df8fc1f75f8\",\"type\":\"WheelZoomTool\"},{\"id\":\"3d4c2a9c-876f-49dd-abf1-fd5e1ee3b317\",\"type\":\"PanTool\"},{\"id\":\"827f7069-7161-43a0-8188-9749d060b54f\",\"type\":\"WheelZoomTool\"},{\"id\":\"ff9ded9f-cc7f-4691-a88a-745ad5511820\",\"type\":\"PanTool\"},{\"id\":\"93ee2844-7290-4603-b0ce-35f2115ed18c\",\"type\":\"WheelZoomTool\"}]},\"id\":\"94a26683-c092-43d8-9bdc-75b6d5ddfe60\",\"type\":\"ProxyToolbar\"},{\"attributes\":{},\"id\":\"0997448f-b035-45de-8527-f8909a2f73f1\",\"type\":\"LinearScale\"},{\"attributes\":{},\"id\":\"b6de6f98-c032-43c8-b221-456c282755a3\",\"type\":\"LinearScale\"},{\"attributes\":{\"toolbar\":{\"id\":\"94a26683-c092-43d8-9bdc-75b6d5ddfe60\",\"type\":\"ProxyToolbar\"},\"toolbar_location\":\"above\"},\"id\":\"c84d28d7-acaf-4e83-8fc7-e3401c46fae2\",\"type\":\"ToolbarBox\"},{\"attributes\":{\"dimension\":1,\"plot\":{\"id\":\"54fa8526-d957-498e-9d1b-17e9fd89aebc\",\"subtype\":\"Figure\",\"type\":\"Plot\"},\"ticker\":{\"id\":\"d471271e-6c82-4ddf-8b22-128071c71c0e\",\"type\":\"BasicTicker\"}},\"id\":\"85d8d61b-587a-49f3-8edb-4267eaf07828\",\"type\":\"Grid\"},{\"attributes\":{\"children\":[{\"id\":\"c84d28d7-acaf-4e83-8fc7-e3401c46fae2\",\"type\":\"ToolbarBox\"},{\"id\":\"43180719-b9b4-43d1-bf2d-65a80ae0a22a\",\"type\":\"Column\"}]},\"id\":\"dc6cb7bb-66b2-45b6-9c36-46e0a61d5c58\",\"type\":\"Column\"},{\"attributes\":{\"plot\":null,\"text\":\"\"},\"id\":\"7d832d08-708e-4dd8-b072-d3a15942216e\",\"type\":\"Title\"},{\"attributes\":{\"callback\":null,\"data\":{\"x\":[0,1,2,3,4,5,6,7,8,9,10],\"y\":[5,4,3,2,1,0,1,2,3,4,5]},\"selected\":{\"id\":\"38aa0045-3c24-40ab-9e3e-dcc26654f3fe\",\"type\":\"Selection\"},\"selection_policy\":{\"id\":\"dda68b08-8eab-4fe6-91c5-a995f0d65043\",\"type\":\"UnionRenderers\"}},\"id\":\"9a12eb58-3ebc-44e4-9885-6db01b4b44da\",\"type\":\"ColumnDataSource\"},{\"attributes\":{\"active_drag\":\"auto\",\"active_inspect\":\"auto\",\"active_scroll\":\"auto\",\"active_tap\":\"auto\",\"tools\":[{\"id\":\"ff9ded9f-cc7f-4691-a88a-745ad5511820\",\"type\":\"PanTool\"},{\"id\":\"93ee2844-7290-4603-b0ce-35f2115ed18c\",\"type\":\"WheelZoomTool\"}]},\"id\":\"dede6e74-bd56-42fc-be2d-e63406672335\",\"type\":\"Toolbar\"},{\"attributes\":{},\"id\":\"deebc5c2-23dc-4e23-9c5e-4af0f26fd83f\",\"type\":\"UnionRenderers\"},{\"attributes\":{},\"id\":\"18f146ea-958e-44bf-897c-e10d70f7fc65\",\"type\":\"BasicTickFormatter\"},{\"attributes\":{\"fill_alpha\":{\"value\":0.1},\"fill_color\":{\"value\":\"#1f77b4\"},\"line_alpha\":{\"value\":0.1},\"line_color\":{\"value\":\"#1f77b4\"},\"size\":{\"units\":\"screen\",\"value\":10},\"x\":{\"field\":\"x\"},\"y\":{\"field\":\"y\"}},\"id\":\"303591d7-2779-4944-a103-bcf3e59ddafd\",\"type\":\"Triangle\"},{\"attributes\":{},\"id\":\"3d4c2a9c-876f-49dd-abf1-fd5e1ee3b317\",\"type\":\"PanTool\"},{\"attributes\":{},\"id\":\"827f7069-7161-43a0-8188-9749d060b54f\",\"type\":\"WheelZoomTool\"},{\"attributes\":{\"below\":[{\"id\":\"295d6874-a248-4e7e-9087-6e522abc3029\",\"type\":\"LinearAxis\"}],\"left\":[{\"id\":\"68e6cd80-8922-41c9-ad97-0be5b9cd0c60\",\"type\":\"LinearAxis\"}],\"plot_height\":250,\"plot_width\":250,\"renderers\":[{\"id\":\"295d6874-a248-4e7e-9087-6e522abc3029\",\"type\":\"LinearAxis\"},{\"id\":\"f0237a73-1458-4843-a410-8f9c7f1c7ca1\",\"type\":\"Grid\"},{\"id\":\"68e6cd80-8922-41c9-ad97-0be5b9cd0c60\",\"type\":\"LinearAxis\"},{\"id\":\"85d8d61b-587a-49f3-8edb-4267eaf07828\",\"type\":\"Grid\"},{\"id\":\"4337642a-6e12-4f1e-8569-aa952d0bb4f1\",\"type\":\"GlyphRenderer\"}],\"title\":{\"id\":\"13e75a8e-ed69-4564-bc64-9adb80af8eb9\",\"type\":\"Title\"},\"toolbar\":{\"id\":\"dede6e74-bd56-42fc-be2d-e63406672335\",\"type\":\"Toolbar\"},\"toolbar_location\":null,\"x_range\":{\"id\":\"152896ee-f984-47ea-97aa-1e37d792cdb8\",\"type\":\"DataRange1d\"},\"x_scale\":{\"id\":\"b6de6f98-c032-43c8-b221-456c282755a3\",\"type\":\"LinearScale\"},\"y_range\":{\"id\":\"787e4acb-f5af-4d28-b90c-0c20549fe552\",\"type\":\"DataRange1d\"},\"y_scale\":{\"id\":\"316f35fb-78dd-4e32-80a3-616227c5ab44\",\"type\":\"LinearScale\"}},\"id\":\"54fa8526-d957-498e-9d1b-17e9fd89aebc\",\"subtype\":\"Figure\",\"type\":\"Plot\"},{\"attributes\":{\"children\":[{\"id\":\"6fde23bb-3cdc-43a9-bf33-e776efa14175\",\"type\":\"Row\"}]},\"id\":\"43180719-b9b4-43d1-bf2d-65a80ae0a22a\",\"type\":\"Column\"},{\"attributes\":{\"dimension\":1,\"plot\":{\"id\":\"91135a9a-aff3-4256-9ff0-a3e56ba09149\",\"subtype\":\"Figure\",\"type\":\"Plot\"},\"ticker\":{\"id\":\"6a0aa35a-5339-49ed-a74b-d65bf445eab1\",\"type\":\"BasicTicker\"}},\"id\":\"3ffa4a3d-0f0e-4da4-9d6e-d75ed3568a2f\",\"type\":\"Grid\"},{\"attributes\":{},\"id\":\"4169f77f-4fdf-4f54-8a1a-6d6824c34e2f\",\"type\":\"Selection\"},{\"attributes\":{},\"id\":\"73fb2c88-994c-4c67-8fb7-429bba6f7427\",\"type\":\"BasicTickFormatter\"},{\"attributes\":{},\"id\":\"6a0aa35a-5339-49ed-a74b-d65bf445eab1\",\"type\":\"BasicTicker\"},{\"attributes\":{\"formatter\":{\"id\":\"0cefe240-e4e6-4018-8175-b5177ec5976f\",\"type\":\"BasicTickFormatter\"},\"plot\":{\"id\":\"91135a9a-aff3-4256-9ff0-a3e56ba09149\",\"subtype\":\"Figure\",\"type\":\"Plot\"},\"ticker\":{\"id\":\"6a0aa35a-5339-49ed-a74b-d65bf445eab1\",\"type\":\"BasicTicker\"}},\"id\":\"a0947d68-f332-46a6-bdbf-b1d85ced2a0f\",\"type\":\"LinearAxis\"},{\"attributes\":{},\"id\":\"4c66f42f-0f1c-483c-81f4-a1092a8aadaf\",\"type\":\"BasicTickFormatter\"},{\"attributes\":{\"formatter\":{\"id\":\"18f146ea-958e-44bf-897c-e10d70f7fc65\",\"type\":\"BasicTickFormatter\"},\"plot\":{\"id\":\"91135a9a-aff3-4256-9ff0-a3e56ba09149\",\"subtype\":\"Figure\",\"type\":\"Plot\"},\"ticker\":{\"id\":\"8df5af95-8e47-4166-b664-eb45fa94dc2a\",\"type\":\"BasicTicker\"}},\"id\":\"99404b73-1aaa-4716-8ff5-127c42523d90\",\"type\":\"LinearAxis\"},{\"attributes\":{},\"id\":\"8df5af95-8e47-4166-b664-eb45fa94dc2a\",\"type\":\"BasicTicker\"},{\"attributes\":{\"plot\":{\"id\":\"91135a9a-aff3-4256-9ff0-a3e56ba09149\",\"subtype\":\"Figure\",\"type\":\"Plot\"},\"ticker\":{\"id\":\"8df5af95-8e47-4166-b664-eb45fa94dc2a\",\"type\":\"BasicTicker\"}},\"id\":\"153a41f7-20b2-435b-8c28-280d9ede7878\",\"type\":\"Grid\"},{\"attributes\":{\"active_drag\":\"auto\",\"active_inspect\":\"auto\",\"active_scroll\":\"auto\",\"active_tap\":\"auto\",\"tools\":[{\"id\":\"3d4c2a9c-876f-49dd-abf1-fd5e1ee3b317\",\"type\":\"PanTool\"},{\"id\":\"827f7069-7161-43a0-8188-9749d060b54f\",\"type\":\"WheelZoomTool\"}]},\"id\":\"76fad7bc-95c9-40c0-8134-f65570d10cb3\",\"type\":\"Toolbar\"},{\"attributes\":{\"fill_color\":{\"value\":\"firebrick\"},\"line_color\":{\"value\":\"firebrick\"},\"size\":{\"units\":\"screen\",\"value\":10},\"x\":{\"field\":\"x\"},\"y\":{\"field\":\"y\"}},\"id\":\"7a156050-5fe9-4f11-9057-55029ccc9d01\",\"type\":\"Triangle\"},{\"attributes\":{\"source\":{\"id\":\"fe6c4c0a-fb01-4da8-a22b-71aacd68a8cb\",\"type\":\"ColumnDataSource\"}},\"id\":\"1e5cb774-e945-4492-b1de-48a046b85760\",\"type\":\"CDSView\"},{\"attributes\":{\"data_source\":{\"id\":\"fe6c4c0a-fb01-4da8-a22b-71aacd68a8cb\",\"type\":\"ColumnDataSource\"},\"glyph\":{\"id\":\"ebd20c18-e77c-4ca3-aa2e-8dbec0698d2b\",\"type\":\"Circle\"},\"hover_glyph\":null,\"muted_glyph\":null,\"nonselection_glyph\":{\"id\":\"ae642b65-ca33-4f0d-a5a1-40344601ece0\",\"type\":\"Circle\"},\"selection_glyph\":null,\"view\":{\"id\":\"1e5cb774-e945-4492-b1de-48a046b85760\",\"type\":\"CDSView\"}},\"id\":\"87e46eef-76db-4466-8a6c-a623fd2d71d1\",\"type\":\"GlyphRenderer\"},{\"attributes\":{\"fill_alpha\":{\"value\":0.1},\"fill_color\":{\"value\":\"#1f77b4\"},\"line_alpha\":{\"value\":0.1},\"line_color\":{\"value\":\"#1f77b4\"},\"size\":{\"units\":\"screen\",\"value\":10},\"x\":{\"field\":\"x\"},\"y\":{\"field\":\"y\"}},\"id\":\"ae642b65-ca33-4f0d-a5a1-40344601ece0\",\"type\":\"Circle\"},{\"attributes\":{},\"id\":\"7c607bd0-410c-46d4-be0f-4df8fc1f75f8\",\"type\":\"WheelZoomTool\"},{\"attributes\":{\"callback\":null},\"id\":\"787e4acb-f5af-4d28-b90c-0c20549fe552\",\"type\":\"DataRange1d\"},{\"attributes\":{},\"id\":\"e5c4266c-9da6-4e95-95a7-e5ae6eb80382\",\"type\":\"PanTool\"},{\"attributes\":{\"callback\":null,\"data\":{\"x\":[0,1,2,3,4,5,6,7,8,9,10],\"y\":[10,9,8,7,6,5,4,3,2,1,0]},\"selected\":{\"id\":\"6b73c5d8-4dd2-418b-983b-3cc847cdb191\",\"type\":\"Selection\"},\"selection_policy\":{\"id\":\"deebc5c2-23dc-4e23-9c5e-4af0f26fd83f\",\"type\":\"UnionRenderers\"}},\"id\":\"84c05938-6893-47aa-81b0-ab3aec7cc0f1\",\"type\":\"ColumnDataSource\"},{\"attributes\":{\"dimension\":1,\"plot\":{\"id\":\"dbe569c4-4851-40b0-aaaa-7da8e7bb8c7e\",\"subtype\":\"Figure\",\"type\":\"Plot\"},\"ticker\":{\"id\":\"dcc32133-c854-4d96-9de0-7ceab1a808ea\",\"type\":\"BasicTicker\"}},\"id\":\"4a8ea814-4ee7-47fb-80d2-f55b0ac6e08f\",\"type\":\"Grid\"},{\"attributes\":{},\"id\":\"dcc32133-c854-4d96-9de0-7ceab1a808ea\",\"type\":\"BasicTicker\"},{\"attributes\":{\"formatter\":{\"id\":\"73fb2c88-994c-4c67-8fb7-429bba6f7427\",\"type\":\"BasicTickFormatter\"},\"plot\":{\"id\":\"dbe569c4-4851-40b0-aaaa-7da8e7bb8c7e\",\"subtype\":\"Figure\",\"type\":\"Plot\"},\"ticker\":{\"id\":\"dcc32133-c854-4d96-9de0-7ceab1a808ea\",\"type\":\"BasicTicker\"}},\"id\":\"97d319c6-bf0b-4d5e-b823-09c1dc516f66\",\"type\":\"LinearAxis\"},{\"attributes\":{\"plot\":null,\"text\":\"\"},\"id\":\"805bfce2-56e3-4298-ac08-71f50b86554a\",\"type\":\"Title\"},{\"attributes\":{},\"id\":\"59e0b1b8-0884-4d85-9c24-df3efa4f1191\",\"type\":\"BasicTicker\"},{\"attributes\":{},\"id\":\"8b0469aa-fba1-486d-b1fe-0b9c68f9eeca\",\"type\":\"UnionRenderers\"},{\"attributes\":{\"formatter\":{\"id\":\"4c66f42f-0f1c-483c-81f4-a1092a8aadaf\",\"type\":\"BasicTickFormatter\"},\"plot\":{\"id\":\"dbe569c4-4851-40b0-aaaa-7da8e7bb8c7e\",\"subtype\":\"Figure\",\"type\":\"Plot\"},\"ticker\":{\"id\":\"59e0b1b8-0884-4d85-9c24-df3efa4f1191\",\"type\":\"BasicTicker\"}},\"id\":\"3c8215a2-2daa-4241-bf27-536e7072bbf0\",\"type\":\"LinearAxis\"},{\"attributes\":{\"data_source\":{\"id\":\"9a12eb58-3ebc-44e4-9885-6db01b4b44da\",\"type\":\"ColumnDataSource\"},\"glyph\":{\"id\":\"821ddbbd-0a17-41c9-b4fc-dd3c42aeae97\",\"type\":\"Square\"},\"hover_glyph\":null,\"muted_glyph\":null,\"nonselection_glyph\":{\"id\":\"4dcdb76c-5748-49ce-afaa-1d2324170a9c\",\"type\":\"Square\"},\"selection_glyph\":null,\"view\":{\"id\":\"ddb18a91-b08b-477e-bcf6-e819bd6904a4\",\"type\":\"CDSView\"}},\"id\":\"4337642a-6e12-4f1e-8569-aa952d0bb4f1\",\"type\":\"GlyphRenderer\"},{\"attributes\":{\"source\":{\"id\":\"84c05938-6893-47aa-81b0-ab3aec7cc0f1\",\"type\":\"ColumnDataSource\"}},\"id\":\"fa8ba2e9-8f70-4b05-afe7-dd2a909ede4d\",\"type\":\"CDSView\"},{\"attributes\":{\"plot\":{\"id\":\"dbe569c4-4851-40b0-aaaa-7da8e7bb8c7e\",\"subtype\":\"Figure\",\"type\":\"Plot\"},\"ticker\":{\"id\":\"59e0b1b8-0884-4d85-9c24-df3efa4f1191\",\"type\":\"BasicTicker\"}},\"id\":\"47c623a5-0656-4523-ac5b-9c0eb405b45d\",\"type\":\"Grid\"},{\"attributes\":{},\"id\":\"3d6dcf68-5d86-4228-824f-f0be17aeab00\",\"type\":\"LinearScale\"},{\"attributes\":{\"source\":{\"id\":\"9a12eb58-3ebc-44e4-9885-6db01b4b44da\",\"type\":\"ColumnDataSource\"}},\"id\":\"ddb18a91-b08b-477e-bcf6-e819bd6904a4\",\"type\":\"CDSView\"},{\"attributes\":{\"fill_alpha\":{\"value\":0.1},\"fill_color\":{\"value\":\"#1f77b4\"},\"line_alpha\":{\"value\":0.1},\"line_color\":{\"value\":\"#1f77b4\"},\"size\":{\"units\":\"screen\",\"value\":10},\"x\":{\"field\":\"x\"},\"y\":{\"field\":\"y\"}},\"id\":\"4dcdb76c-5748-49ce-afaa-1d2324170a9c\",\"type\":\"Square\"},{\"attributes\":{\"fill_color\":{\"value\":\"navy\"},\"line_color\":{\"value\":\"navy\"},\"size\":{\"units\":\"screen\",\"value\":10},\"x\":{\"field\":\"x\"},\"y\":{\"field\":\"y\"}},\"id\":\"ebd20c18-e77c-4ca3-aa2e-8dbec0698d2b\",\"type\":\"Circle\"}],\"root_ids\":[\"dc6cb7bb-66b2-45b6-9c36-46e0a61d5c58\"]},\"title\":\"Bokeh Application\",\"version\":\"0.12.16\"}};\n",
       "  var render_items = [{\"docid\":\"12244d5d-0ecb-4cb0-872b-e5d76e50f96c\",\"elementid\":\"46dae347-9a6c-45ad-97ec-3e3b2b101ccf\",\"modelid\":\"dc6cb7bb-66b2-45b6-9c36-46e0a61d5c58\"}];\n",
       "  root.Bokeh.embed.embed_items_notebook(docs_json, render_items);\n",
       "\n",
       "  }\n",
       "  if (root.Bokeh !== undefined) {\n",
       "    embed_document(root);\n",
       "  } else {\n",
       "    var attempts = 0;\n",
       "    var timer = setInterval(function(root) {\n",
       "      if (root.Bokeh !== undefined) {\n",
       "        embed_document(root);\n",
       "        clearInterval(timer);\n",
       "      }\n",
       "      attempts++;\n",
       "      if (attempts > 100) {\n",
       "        console.log(\"Bokeh: ERROR: Unable to run BokehJS code because BokehJS library is missing\")\n",
       "        clearInterval(timer);\n",
       "      }\n",
       "    }, 10, root)\n",
       "  }\n",
       "})(window);"
      ],
      "application/vnd.bokehjs_exec.v0+json": ""
     },
     "metadata": {
      "application/vnd.bokehjs_exec.v0+json": {
       "id": "dc6cb7bb-66b2-45b6-9c36-46e0a61d5c58"
      }
     },
     "output_type": "display_data"
    }
   ],
   "source": [
    "from bokeh.io import output_notebook, show\n",
    "from bokeh.plotting import figure\n",
    "output_notebook()\n",
    "from bokeh.layouts import gridplot\n",
    "\n",
    "x = list(range(11))\n",
    "y0, y1, y2 = x, [10-i for i in x], [abs(i-5) for i in x]\n",
    "\n",
    "plot_options = dict(width=250, plot_height=250, tools='pan,wheel_zoom')\n",
    "\n",
    "# create a new plot\n",
    "s1 = figure(**plot_options)\n",
    "s1.circle(x, y0, size=10, color=\"navy\")\n",
    "\n",
    "# create a new plot and share both ranges\n",
    "s2 = figure(x_range=s1.x_range, y_range=s1.y_range, **plot_options)\n",
    "s2.triangle(x, y1, size=10, color=\"firebrick\")\n",
    "\n",
    "# create a new plot and share only one range\n",
    "s3 = figure(x_range=s1.x_range, **plot_options)\n",
    "s3.square(x, y2, size=10, color=\"olive\")\n",
    "\n",
    "p = gridplot([[s1, s2, s3]])\n",
    "\n",
    "# show the results\n",
    "show(p)"
   ]
  }
 ],
 "metadata": {
  "kernelspec": {
   "display_name": "Python 3",
   "language": "python",
   "name": "python3"
  },
  "language_info": {
   "codemirror_mode": {
    "name": "ipython",
    "version": 3
   },
   "file_extension": ".py",
   "mimetype": "text/x-python",
   "name": "python",
   "nbconvert_exporter": "python",
   "pygments_lexer": "ipython3",
   "version": "3.6.5"
  },
  "varInspector": {
   "cols": {
    "lenName": 16,
    "lenType": 16,
    "lenVar": 40
   },
   "kernels_config": {
    "python": {
     "delete_cmd_postfix": "",
     "delete_cmd_prefix": "del ",
     "library": "var_list.py",
     "varRefreshCmd": "print(var_dic_list())"
    },
    "r": {
     "delete_cmd_postfix": ") ",
     "delete_cmd_prefix": "rm(",
     "library": "var_list.r",
     "varRefreshCmd": "cat(var_dic_list()) "
    }
   },
   "types_to_exclude": [
    "module",
    "function",
    "builtin_function_or_method",
    "instance",
    "_Feature"
   ],
   "window_display": false
  },
  "widgets": {
   "application/vnd.jupyter.widget-state+json": {
    "state": {
     "000886a81c60490d8ff41b5c53a71f8f": {
      "model_module": "@jupyter-widgets/base",
      "model_module_version": "1.0.0",
      "model_name": "LayoutModel",
      "state": {}
     },
     "004d572d39f5491fba4419be78a40d5c": {
      "model_module": "@jupyter-widgets/controls",
      "model_module_version": "1.2.0",
      "model_name": "SliderStyleModel",
      "state": {
       "description_width": ""
      }
     },
     "037a8512e3fb4162938ab421cce50be3": {
      "model_module": "@jupyter-widgets/controls",
      "model_module_version": "1.2.0",
      "model_name": "IntSliderModel",
      "state": {
       "layout": "IPY_MODEL_a6e8b98cdc884b9e817acb431866be95",
       "style": "IPY_MODEL_be4f783c733b4ce29570b414b9c94bed",
       "value": 40
      }
     },
     "0db70a751d8e4c7bb7360ecb5b334d84": {
      "model_module": "@jupyter-widgets/controls",
      "model_module_version": "1.2.0",
      "model_name": "IntSliderModel",
      "state": {
       "description": "x",
       "layout": "IPY_MODEL_f97d0108776b46ac870596eea4916a6e",
       "min": 1,
       "style": "IPY_MODEL_58910d1c6dd2488187ee0dc7d82a269f",
       "value": 50
      }
     },
     "10fff3358c4f418296275b865fb89339": {
      "model_module": "@jupyter-widgets/output",
      "model_module_version": "1.0.0",
      "model_name": "OutputModel",
      "state": {
       "layout": "IPY_MODEL_894a2d16a39d42d28e950fa9e06dbebb",
       "outputs": [
        {
         "name": "stdout",
         "output_type": "stream",
         "text": "50\n"
        }
       ]
      }
     },
     "13c29bc955b04cb49d918971b405c45c": {
      "model_module": "@jupyter-widgets/base",
      "model_module_version": "1.0.0",
      "model_name": "LayoutModel",
      "state": {}
     },
     "165df9b4a62149349dfe6ba4f18072d9": {
      "model_module": "@jupyter-widgets/output",
      "model_module_version": "1.0.0",
      "model_name": "OutputModel",
      "state": {
       "layout": "IPY_MODEL_000886a81c60490d8ff41b5c53a71f8f",
       "outputs": [
        {
         "name": "stdout",
         "output_type": "stream",
         "text": "50\n"
        }
       ]
      }
     },
     "1c57612df6824152b5ae9d06f7bac096": {
      "model_module": "@jupyter-widgets/controls",
      "model_module_version": "1.2.0",
      "model_name": "SliderStyleModel",
      "state": {
       "description_width": ""
      }
     },
     "1edce30d969649bc9de83cc43c0cf376": {
      "model_module": "@jupyter-widgets/base",
      "model_module_version": "1.0.0",
      "model_name": "LayoutModel",
      "state": {}
     },
     "1f2482c7f9b74643ad4c10e8a6580288": {
      "model_module": "@jupyter-widgets/controls",
      "model_module_version": "1.2.0",
      "model_name": "IntSliderModel",
      "state": {
       "description": "x",
       "layout": "IPY_MODEL_2ff874735a9c4815a0ee5441b7c05334",
       "min": 1,
       "style": "IPY_MODEL_b3232302508047d489dc2a377134787c",
       "value": 82
      }
     },
     "24d892a2d19b472b8afd1f46d37a2ff6": {
      "model_module": "@jupyter-widgets/base",
      "model_module_version": "1.0.0",
      "model_name": "LayoutModel",
      "state": {}
     },
     "29e4441792ed46e699f6e5a696fbf272": {
      "model_module": "@jupyter-widgets/output",
      "model_module_version": "1.0.0",
      "model_name": "OutputModel",
      "state": {
       "layout": "IPY_MODEL_c32e4473e2c44c62881006f2b15ad5fb",
       "outputs": [
        {
         "name": "stdout",
         "output_type": "stream",
         "text": "82\n"
        }
       ]
      }
     },
     "2dfea42eb7d14193a3118bd062c3f47c": {
      "model_module": "@jupyter-widgets/controls",
      "model_module_version": "1.2.0",
      "model_name": "SliderStyleModel",
      "state": {
       "description_width": ""
      }
     },
     "2e72c3b0bf0e42738014595e0894dcec": {
      "model_module": "@jupyter-widgets/controls",
      "model_module_version": "1.2.0",
      "model_name": "SliderStyleModel",
      "state": {
       "description_width": ""
      }
     },
     "2ff874735a9c4815a0ee5441b7c05334": {
      "model_module": "@jupyter-widgets/base",
      "model_module_version": "1.0.0",
      "model_name": "LayoutModel",
      "state": {}
     },
     "3198bbd1eec9461f93a3a11fd03adbba": {
      "model_module": "@jupyter-widgets/controls",
      "model_module_version": "1.2.0",
      "model_name": "SliderStyleModel",
      "state": {
       "description_width": ""
      }
     },
     "329c8062989b42aea890f65846ce2d7c": {
      "model_module": "@jupyter-widgets/controls",
      "model_module_version": "1.2.0",
      "model_name": "VBoxModel",
      "state": {
       "_dom_classes": [
        "widget-interact"
       ],
       "layout": "IPY_MODEL_c0060703de714a00946aa3a14e257635"
      }
     },
     "33067ae778ca4dd8879c9d854844daa9": {
      "model_module": "@jupyter-widgets/controls",
      "model_module_version": "1.2.0",
      "model_name": "IntSliderModel",
      "state": {
       "layout": "IPY_MODEL_e3a3739304eb42919b2fba7ea420b315",
       "style": "IPY_MODEL_8469d2fb16984323ba9d0e794691a8a2",
       "value": 40
      }
     },
     "356a69ba3af64202a2f29152cb40b232": {
      "model_module": "@jupyter-widgets/controls",
      "model_module_version": "1.2.0",
      "model_name": "SliderStyleModel",
      "state": {
       "description_width": ""
      }
     },
     "3cd0b3a509cb410394d2c2e64d31cd09": {
      "model_module": "@jupyter-widgets/controls",
      "model_module_version": "1.2.0",
      "model_name": "IntSliderModel",
      "state": {
       "layout": "IPY_MODEL_87e27f45b50c4842823a890aaad3a12f",
       "style": "IPY_MODEL_45aabb1a93bb43069d852c57a8e27170",
       "value": 65
      }
     },
     "3cf60f61b88e4346bc7fdd9e873409fc": {
      "model_module": "@jupyter-widgets/controls",
      "model_module_version": "1.2.0",
      "model_name": "VBoxModel",
      "state": {
       "_dom_classes": [
        "widget-interact"
       ],
       "children": [
        "IPY_MODEL_7aa003bf7bc34ff1aa5cdb22ae74e3cc",
        "IPY_MODEL_7f6f18dc6ae441eb8b739452149b4689"
       ],
       "layout": "IPY_MODEL_8866152ad1e34b1bbaeab7e511403e1f"
      }
     },
     "4171cf3a76f246d69568b6c47b0cd9e0": {
      "model_module": "@jupyter-widgets/controls",
      "model_module_version": "1.2.0",
      "model_name": "IntSliderModel",
      "state": {
       "layout": "IPY_MODEL_1edce30d969649bc9de83cc43c0cf376",
       "style": "IPY_MODEL_458570b87de9430ab703759391de1fa3",
       "value": 40
      }
     },
     "419bf6bdd1ad493c9136eda725bdc3df": {
      "model_module": "@jupyter-widgets/base",
      "model_module_version": "1.0.0",
      "model_name": "LayoutModel",
      "state": {}
     },
     "458570b87de9430ab703759391de1fa3": {
      "model_module": "@jupyter-widgets/controls",
      "model_module_version": "1.2.0",
      "model_name": "SliderStyleModel",
      "state": {
       "description_width": ""
      }
     },
     "45aabb1a93bb43069d852c57a8e27170": {
      "model_module": "@jupyter-widgets/controls",
      "model_module_version": "1.2.0",
      "model_name": "SliderStyleModel",
      "state": {
       "description_width": ""
      }
     },
     "4a2a3448fadb41258e5e8183175e4551": {
      "model_module": "@jupyter-widgets/base",
      "model_module_version": "1.0.0",
      "model_name": "LayoutModel",
      "state": {}
     },
     "516035f3e35e49189bffcc0525af9e03": {
      "model_module": "@jupyter-widgets/base",
      "model_module_version": "1.0.0",
      "model_name": "LayoutModel",
      "state": {}
     },
     "58910d1c6dd2488187ee0dc7d82a269f": {
      "model_module": "@jupyter-widgets/controls",
      "model_module_version": "1.2.0",
      "model_name": "SliderStyleModel",
      "state": {
       "description_width": ""
      }
     },
     "5a11fb09c1554827a029f871d39e4be9": {
      "model_module": "@jupyter-widgets/controls",
      "model_module_version": "1.2.0",
      "model_name": "IntSliderModel",
      "state": {
       "description": "x",
       "layout": "IPY_MODEL_6b4e8b8388f449d1b4a6d7703d7c286e",
       "min": 1,
       "style": "IPY_MODEL_356a69ba3af64202a2f29152cb40b232",
       "value": 50
      }
     },
     "5e323c40b8f24bf0849182a1f0024610": {
      "model_module": "@jupyter-widgets/base",
      "model_module_version": "1.0.0",
      "model_name": "LayoutModel",
      "state": {}
     },
     "632672d0adb44816872ae469ed0d3b37": {
      "model_module": "@jupyter-widgets/controls",
      "model_module_version": "1.2.0",
      "model_name": "IntSliderModel",
      "state": {
       "layout": "IPY_MODEL_516035f3e35e49189bffcc0525af9e03",
       "style": "IPY_MODEL_7593bc705dbe4aeca23650f186cd7877",
       "value": 40
      }
     },
     "646bbdddf7644be08866e801c6f71bdd": {
      "model_module": "@jupyter-widgets/controls",
      "model_module_version": "1.2.0",
      "model_name": "SliderStyleModel",
      "state": {
       "description_width": ""
      }
     },
     "676d4cb014b8456cb52f562a2b255909": {
      "model_module": "@jupyter-widgets/controls",
      "model_module_version": "1.2.0",
      "model_name": "VBoxModel",
      "state": {
       "_dom_classes": [
        "widget-interact"
       ],
       "children": [
        "IPY_MODEL_5a11fb09c1554827a029f871d39e4be9",
        "IPY_MODEL_165df9b4a62149349dfe6ba4f18072d9"
       ],
       "layout": "IPY_MODEL_9a38a116cd9e48619ffbabfef621b9d8"
      }
     },
     "6b4e8b8388f449d1b4a6d7703d7c286e": {
      "model_module": "@jupyter-widgets/base",
      "model_module_version": "1.0.0",
      "model_name": "LayoutModel",
      "state": {}
     },
     "71adadbeb83347f18c9e8b8b9412b9dd": {
      "model_module": "@jupyter-widgets/controls",
      "model_module_version": "1.2.0",
      "model_name": "IntSliderModel",
      "state": {
       "layout": "IPY_MODEL_b316064ef8dc49c995df68a2e399e412",
       "style": "IPY_MODEL_646bbdddf7644be08866e801c6f71bdd",
       "value": 40
      }
     },
     "7593bc705dbe4aeca23650f186cd7877": {
      "model_module": "@jupyter-widgets/controls",
      "model_module_version": "1.2.0",
      "model_name": "SliderStyleModel",
      "state": {
       "description_width": ""
      }
     },
     "79d1f1e3882743538f0d87412ff2e95e": {
      "model_module": "@jupyter-widgets/base",
      "model_module_version": "1.0.0",
      "model_name": "LayoutModel",
      "state": {}
     },
     "7a588b4ea16745a4857a6b784e10018f": {
      "model_module": "@jupyter-widgets/controls",
      "model_module_version": "1.2.0",
      "model_name": "SliderStyleModel",
      "state": {
       "description_width": ""
      }
     },
     "7aa003bf7bc34ff1aa5cdb22ae74e3cc": {
      "model_module": "@jupyter-widgets/controls",
      "model_module_version": "1.2.0",
      "model_name": "IntSliderModel",
      "state": {
       "description": "x",
       "layout": "IPY_MODEL_5e323c40b8f24bf0849182a1f0024610",
       "min": 1,
       "style": "IPY_MODEL_7a588b4ea16745a4857a6b784e10018f",
       "value": 22
      }
     },
     "7bf1cf847718457eb25132600f871bf3": {
      "model_module": "@jupyter-widgets/base",
      "model_module_version": "1.0.0",
      "model_name": "LayoutModel",
      "state": {}
     },
     "7f6f18dc6ae441eb8b739452149b4689": {
      "model_module": "@jupyter-widgets/output",
      "model_module_version": "1.0.0",
      "model_name": "OutputModel",
      "state": {
       "layout": "IPY_MODEL_4a2a3448fadb41258e5e8183175e4551",
       "outputs": [
        {
         "name": "stdout",
         "output_type": "stream",
         "text": "22\n"
        }
       ]
      }
     },
     "8469d2fb16984323ba9d0e794691a8a2": {
      "model_module": "@jupyter-widgets/controls",
      "model_module_version": "1.2.0",
      "model_name": "SliderStyleModel",
      "state": {
       "description_width": ""
      }
     },
     "866a03373bd54dca9230133acd029e44": {
      "model_module": "@jupyter-widgets/base",
      "model_module_version": "1.0.0",
      "model_name": "LayoutModel",
      "state": {}
     },
     "87e27f45b50c4842823a890aaad3a12f": {
      "model_module": "@jupyter-widgets/base",
      "model_module_version": "1.0.0",
      "model_name": "LayoutModel",
      "state": {}
     },
     "8866152ad1e34b1bbaeab7e511403e1f": {
      "model_module": "@jupyter-widgets/base",
      "model_module_version": "1.0.0",
      "model_name": "LayoutModel",
      "state": {}
     },
     "894a2d16a39d42d28e950fa9e06dbebb": {
      "model_module": "@jupyter-widgets/base",
      "model_module_version": "1.0.0",
      "model_name": "LayoutModel",
      "state": {}
     },
     "9a38a116cd9e48619ffbabfef621b9d8": {
      "model_module": "@jupyter-widgets/base",
      "model_module_version": "1.0.0",
      "model_name": "LayoutModel",
      "state": {}
     },
     "9b300538e5074357b893a09e7dfb27d3": {
      "model_module": "@jupyter-widgets/controls",
      "model_module_version": "1.2.0",
      "model_name": "IntSliderModel",
      "state": {
       "layout": "IPY_MODEL_ca38772bd8e34bb0b52a48b7ce56702d",
       "max": 200,
       "style": "IPY_MODEL_1c57612df6824152b5ae9d06f7bac096",
       "value": 100
      }
     },
     "9e26ed0530b540b99a2743ecac14cd6c": {
      "model_module": "@jupyter-widgets/base",
      "model_module_version": "1.0.0",
      "model_name": "LayoutModel",
      "state": {}
     },
     "a09d119b3c304eb79be60f5cb0bacf17": {
      "model_module": "@jupyter-widgets/controls",
      "model_module_version": "1.2.0",
      "model_name": "SliderStyleModel",
      "state": {
       "description_width": ""
      }
     },
     "a1f5b121f06d4de7898ab221434bfb47": {
      "model_module": "@jupyter-widgets/controls",
      "model_module_version": "1.2.0",
      "model_name": "VBoxModel",
      "state": {
       "_dom_classes": [
        "widget-interact"
       ],
       "children": [
        "IPY_MODEL_0db70a751d8e4c7bb7360ecb5b334d84",
        "IPY_MODEL_10fff3358c4f418296275b865fb89339"
       ],
       "layout": "IPY_MODEL_9e26ed0530b540b99a2743ecac14cd6c"
      }
     },
     "a6e8b98cdc884b9e817acb431866be95": {
      "model_module": "@jupyter-widgets/base",
      "model_module_version": "1.0.0",
      "model_name": "LayoutModel",
      "state": {}
     },
     "ab14fb2989c34a74916dde2d9a0cd850": {
      "model_module": "@jupyter-widgets/controls",
      "model_module_version": "1.2.0",
      "model_name": "IntSliderModel",
      "state": {
       "layout": "IPY_MODEL_419bf6bdd1ad493c9136eda725bdc3df",
       "style": "IPY_MODEL_ecde47a3d278467da6c13bd6dfc96e6b",
       "value": 40
      }
     },
     "b0d087cf345b451cafd3cbd59fbda717": {
      "model_module": "@jupyter-widgets/controls",
      "model_module_version": "1.2.0",
      "model_name": "VBoxModel",
      "state": {
       "_dom_classes": [
        "widget-interact"
       ],
       "children": [
        "IPY_MODEL_1f2482c7f9b74643ad4c10e8a6580288",
        "IPY_MODEL_29e4441792ed46e699f6e5a696fbf272"
       ],
       "layout": "IPY_MODEL_24d892a2d19b472b8afd1f46d37a2ff6"
      }
     },
     "b316064ef8dc49c995df68a2e399e412": {
      "model_module": "@jupyter-widgets/base",
      "model_module_version": "1.0.0",
      "model_name": "LayoutModel",
      "state": {}
     },
     "b3232302508047d489dc2a377134787c": {
      "model_module": "@jupyter-widgets/controls",
      "model_module_version": "1.2.0",
      "model_name": "SliderStyleModel",
      "state": {
       "description_width": ""
      }
     },
     "b710808063454991abc2b6e8ddcc54c6": {
      "model_module": "@jupyter-widgets/controls",
      "model_module_version": "1.2.0",
      "model_name": "SliderStyleModel",
      "state": {
       "description_width": ""
      }
     },
     "ba677d3d3fc64534836f33fd4c473c36": {
      "model_module": "@jupyter-widgets/controls",
      "model_module_version": "1.2.0",
      "model_name": "IntSliderModel",
      "state": {
       "layout": "IPY_MODEL_13c29bc955b04cb49d918971b405c45c",
       "style": "IPY_MODEL_b710808063454991abc2b6e8ddcc54c6",
       "value": 64
      }
     },
     "be4f783c733b4ce29570b414b9c94bed": {
      "model_module": "@jupyter-widgets/controls",
      "model_module_version": "1.2.0",
      "model_name": "SliderStyleModel",
      "state": {
       "description_width": ""
      }
     },
     "c0060703de714a00946aa3a14e257635": {
      "model_module": "@jupyter-widgets/base",
      "model_module_version": "1.0.0",
      "model_name": "LayoutModel",
      "state": {}
     },
     "c0a983579c454554ba8711349bde8395": {
      "model_module": "@jupyter-widgets/controls",
      "model_module_version": "1.2.0",
      "model_name": "VBoxModel",
      "state": {
       "_dom_classes": [
        "widget-interact"
       ],
       "layout": "IPY_MODEL_cdd8e3ae9d3242798245e3e57e14e435"
      }
     },
     "c2e7dd6d02944e68a7bd5c8d31d1bbc3": {
      "model_module": "@jupyter-widgets/controls",
      "model_module_version": "1.2.0",
      "model_name": "IntSliderModel",
      "state": {
       "layout": "IPY_MODEL_866a03373bd54dca9230133acd029e44",
       "style": "IPY_MODEL_a09d119b3c304eb79be60f5cb0bacf17",
       "value": 40
      }
     },
     "c32e4473e2c44c62881006f2b15ad5fb": {
      "model_module": "@jupyter-widgets/base",
      "model_module_version": "1.0.0",
      "model_name": "LayoutModel",
      "state": {}
     },
     "ca38772bd8e34bb0b52a48b7ce56702d": {
      "model_module": "@jupyter-widgets/base",
      "model_module_version": "1.0.0",
      "model_name": "LayoutModel",
      "state": {}
     },
     "cdd8e3ae9d3242798245e3e57e14e435": {
      "model_module": "@jupyter-widgets/base",
      "model_module_version": "1.0.0",
      "model_name": "LayoutModel",
      "state": {}
     },
     "d93dddba8bdf45df8d69f0cb7f8d2b67": {
      "model_module": "@jupyter-widgets/controls",
      "model_module_version": "1.2.0",
      "model_name": "IntSliderModel",
      "state": {
       "layout": "IPY_MODEL_79d1f1e3882743538f0d87412ff2e95e",
       "style": "IPY_MODEL_2e72c3b0bf0e42738014595e0894dcec",
       "value": 40
      }
     },
     "dfa5b7320adb4551b3c188c81cfa6a02": {
      "model_module": "@jupyter-widgets/base",
      "model_module_version": "1.0.0",
      "model_name": "LayoutModel",
      "state": {}
     },
     "e3a3739304eb42919b2fba7ea420b315": {
      "model_module": "@jupyter-widgets/base",
      "model_module_version": "1.0.0",
      "model_name": "LayoutModel",
      "state": {}
     },
     "e980532c6c86435e975daca2c267a803": {
      "model_module": "@jupyter-widgets/base",
      "model_module_version": "1.0.0",
      "model_name": "LayoutModel",
      "state": {}
     },
     "eb858ff9037a43d8953743d6e577f42b": {
      "model_module": "@jupyter-widgets/controls",
      "model_module_version": "1.2.0",
      "model_name": "IntSliderModel",
      "state": {
       "layout": "IPY_MODEL_7bf1cf847718457eb25132600f871bf3",
       "style": "IPY_MODEL_2dfea42eb7d14193a3118bd062c3f47c",
       "value": 40
      }
     },
     "ecde47a3d278467da6c13bd6dfc96e6b": {
      "model_module": "@jupyter-widgets/controls",
      "model_module_version": "1.2.0",
      "model_name": "SliderStyleModel",
      "state": {
       "description_width": ""
      }
     },
     "f26cf8704f5e4f7e843ccc2976ae8f33": {
      "model_module": "@jupyter-widgets/controls",
      "model_module_version": "1.2.0",
      "model_name": "IntSliderModel",
      "state": {
       "layout": "IPY_MODEL_dfa5b7320adb4551b3c188c81cfa6a02",
       "style": "IPY_MODEL_3198bbd1eec9461f93a3a11fd03adbba",
       "value": 40
      }
     },
     "f97d0108776b46ac870596eea4916a6e": {
      "model_module": "@jupyter-widgets/base",
      "model_module_version": "1.0.0",
      "model_name": "LayoutModel",
      "state": {}
     },
     "fa6cb67b23424c09a1566da8b04d9aa1": {
      "model_module": "@jupyter-widgets/controls",
      "model_module_version": "1.2.0",
      "model_name": "IntSliderModel",
      "state": {
       "layout": "IPY_MODEL_e980532c6c86435e975daca2c267a803",
       "style": "IPY_MODEL_004d572d39f5491fba4419be78a40d5c",
       "value": 40
      }
     }
    },
    "version_major": 2,
    "version_minor": 0
   }
  }
 },
 "nbformat": 4,
 "nbformat_minor": 2
}
